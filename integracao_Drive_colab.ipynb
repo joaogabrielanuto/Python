{
  "nbformat": 4,
  "nbformat_minor": 0,
  "metadata": {
    "colab": {
      "provenance": [],
      "collapsed_sections": [
        "ItEuvpGDUxYt"
      ]
    },
    "kernelspec": {
      "name": "python3",
      "display_name": "Python 3"
    },
    "language_info": {
      "name": "python"
    }
  },
  "cells": [
    {
      "cell_type": "markdown",
      "source": [
        "# ***Integrar Colab ao Google Drive***"
      ],
      "metadata": {
        "id": "oyh7_VDIvwny"
      }
    },
    {
      "cell_type": "markdown",
      "source": [
        "### ***Conectando ao Google Drive para obter nosso dataset***"
      ],
      "metadata": {
        "id": "JNfoAjODLInc"
      }
    },
    {
      "cell_type": "code",
      "source": [
        "from google.colab import drive\n",
        "\n",
        "drive.mount('/content/gdrive/', force_remount=True)"
      ],
      "metadata": {
        "colab": {
          "base_uri": "https://localhost:8080/"
        },
        "id": "p1HjScrfzSWK",
        "outputId": "a48c6fea-4b1b-4ccc-ba29-a91bd280d8ce"
      },
      "execution_count": null,
      "outputs": [
        {
          "output_type": "stream",
          "name": "stdout",
          "text": [
            "Mounted at /content/gdrive/\n"
          ]
        }
      ]
    },
    {
      "cell_type": "code",
      "source": [
        "df = pd.read_csv('/content/gdrive/MyDrive/datasets/eda base trading/base-trading.csv')"
      ],
      "metadata": {
        "id": "KfUxCjDHzd4S"
      },
      "execution_count": null,
      "outputs": []
    }
  ]
}